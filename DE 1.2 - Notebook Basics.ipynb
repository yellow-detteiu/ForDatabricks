{
 "cells": [
  {
   "cell_type": "markdown",
   "metadata": {
    "application/vnd.databricks.v1+cell": {
     "cellMetadata": {},
     "inputWidgets": {},
     "nuid": "bd625e37-81e8-41f1-ae26-8bcff237b308",
     "showTitle": false,
     "title": ""
    }
   },
   "source": [
    "-sandbox\n",
    "\n",
    "<div style=\"text-align: center; line-height: 0; padding-top: 9px;\">\n",
    "  <img src=\"https://databricks.com/wp-content/uploads/2018/03/db-academy-rgb-1200px.png\" alt=\"Databricks Learning\" style=\"width: 600px\">\n",
    "</div>"
   ]
  },
  {
   "cell_type": "markdown",
   "metadata": {
    "application/vnd.databricks.v1+cell": {
     "cellMetadata": {},
     "inputWidgets": {},
     "nuid": "57505b2a-3e85-441f-bb01-70fb631c400b",
     "showTitle": false,
     "title": ""
    }
   },
   "source": [
    "# Notebook Basics\n",
    "\n",
    "Notebooks are the primary means of developing and executing code interactively on Databricks. This lesson provides a basic introduction to working with Databricks notebooks.\n",
    "\n",
    "If you've previously used Databricks notebooks but this is your first time executing a notebook in Databricks Repos, you'll notice that basic functionality is the same. In the next lesson, we'll review some of the functionality that Databricks Repos adds to notebooks.\n",
    "\n",
    "## Learning Objectives\n",
    "By the end of this lesson, you should be able to:\n",
    "* Attach a notebook to a cluster\n",
    "* Execute a cell in a notebook\n",
    "* Set the language for a notebook\n",
    "* Describe and use magic commands\n",
    "* Create and run a SQL cell\n",
    "* Create and run a Python cell\n",
    "* Create a markdown cell\n",
    "* Export a Databricks notebook\n",
    "* Export a collection of Databricks notebooks"
   ]
  },
  {
   "cell_type": "markdown",
   "metadata": {
    "application/vnd.databricks.v1+cell": {
     "cellMetadata": {},
     "inputWidgets": {},
     "nuid": "1276f8c7-700c-46a4-913a-e74879b163af",
     "showTitle": false,
     "title": ""
    }
   },
   "source": [
    "## Attach to a Cluster\n",
    "\n",
    "In the previous lesson, you should have either deployed a cluster or identified a cluster that an admin has configured for you to use.\n",
    "\n",
    "At the top right corner of your screen, use the drop-down list to connect this notebook to your cluster.\n",
    "\n",
    "**NOTE**: Deploying a cluster can take several minutes. A solid green circle will appear to the left of the cluster name once resources have been deployed. If your cluster has an empty gray circle to the left, you will need to follow instructions to <a href=\"https://docs.databricks.com/clusters/clusters-manage.html#start-a-cluster\" target=\"_blank\">start a cluster</a>."
   ]
  },
  {
   "cell_type": "markdown",
   "metadata": {
    "application/vnd.databricks.v1+cell": {
     "cellMetadata": {},
     "inputWidgets": {},
     "nuid": "52e4e3f3-7251-437a-a571-b058817c0e50",
     "showTitle": false,
     "title": ""
    }
   },
   "source": [
    "## Notebooks Basics\n",
    "\n",
    "Notebooks provide cell-by-cell execution of code. Multiple languages can be mixed in a notebook. Users can add plots, images, and markdown text to enhance their code.\n",
    "\n",
    "Throughout this course, our notebooks are designed as learning instruments. Notebooks can be easily deployed as production code with Databricks, as well as providing a robust toolset for data exploration, reporting, and dashboarding.\n",
    "\n",
    "### Running a Cell\n",
    "* Run the cell below using one of the following options:\n",
    "  * **CTRL+ENTER** or **CTRL+RETURN**\n",
    "  * **SHIFT+ENTER** or **SHIFT+RETURN** to run the cell and move to the next one\n",
    "  * Using **Run Cell**, **Run All Above** or **Run All Below** as seen here<br/><img style=\"box-shadow: 5px 5px 5px 0px rgba(0,0,0,0.25); border: 1px solid rgba(0,0,0,0.25);\" src=\"https://files.training.databricks.com/images/notebook-cell-run-cmd.png\"/>"
   ]
  },
  {
   "cell_type": "code",
   "execution_count": 0,
   "metadata": {
    "application/vnd.databricks.v1+cell": {
     "cellMetadata": {
      "byteLimit": 2048000,
      "rowLimit": 10000
     },
     "inputWidgets": {},
     "nuid": "a0418799-8e49-44fa-8911-9efabb2804c9",
     "showTitle": false,
     "title": ""
    }
   },
   "outputs": [],
   "source": [
    "print(\"I'm running Python!\")"
   ]
  },
  {
   "cell_type": "markdown",
   "metadata": {
    "application/vnd.databricks.v1+cell": {
     "cellMetadata": {},
     "inputWidgets": {},
     "nuid": "211f91d1-4b8b-4c62-a7f0-a2d35447e8f9",
     "showTitle": false,
     "title": ""
    }
   },
   "source": [
    "**NOTE**: Cell-by-cell code execution means that cells can be executed multiple times or out of order. Unless explicitly instructed, you should always assume that the notebooks in this course are intended to be run one cell at a time from top to bottom. If you encounter an error, make sure you read the text before and after a cell to ensure that the error wasn't an intentional learning moment before you try to troubleshoot. Most errors can be resolved by either running earlier cells in a notebook that were missed or re-executing the entire notebook from the top."
   ]
  },
  {
   "cell_type": "markdown",
   "metadata": {
    "application/vnd.databricks.v1+cell": {
     "cellMetadata": {},
     "inputWidgets": {},
     "nuid": "a0fb2c4e-64e8-4b23-bf4f-c49cd1e923e8",
     "showTitle": false,
     "title": ""
    }
   },
   "source": [
    "### Setting the Default Notebook Language\n",
    "\n",
    "The cell above executes a Python command, because our current default language for the notebook is set to Python.\n",
    "\n",
    "Databricks notebooks support Python, SQL, Scala, and R. A language can be selected when a notebook is created, but this can be changed at any time.\n",
    "\n",
    "The default language appears to the right of the notebook title at the top of the page. Throughout this course, we'll use a blend of SQL and Python notebooks.\n",
    "\n",
    "We'll change the default language for this notebook to SQL.\n",
    "\n",
    "Steps:\n",
    "* Click on the **Python** next to the notebook title at the top of the screen\n",
    "* In the UI that pops up, select **SQL** from the drop down list \n",
    "\n",
    "**NOTE**: In the cell just before this one, you should see a new line appear with <strong><code>&#37;python</code></strong>. We'll discuss this in a moment."
   ]
  },
  {
   "cell_type": "markdown",
   "metadata": {
    "application/vnd.databricks.v1+cell": {
     "cellMetadata": {},
     "inputWidgets": {},
     "nuid": "e959a9c0-9810-411f-aa72-dd25b7b27c9c",
     "showTitle": false,
     "title": ""
    }
   },
   "source": [
    "### Create and Run a SQL Cell\n",
    "\n",
    "* Highlight this cell and press the **B** button on the keyboard to create a new cell below\n",
    "* Copy the following code into the cell below and then run the cell\n",
    "\n",
    "**`%sql`**<br/>\n",
    "**`SELECT \"I'm running SQL!\"`**\n",
    "\n",
    "**NOTE**: There are a number of different methods for adding, moving, and deleting cells including GUI options and keyboard shortcuts. Refer to the <a href=\"https://docs.databricks.com/notebooks/notebooks-use.html#develop-notebooks\" target=\"_blank\">docs</a> for details."
   ]
  },
  {
   "cell_type": "markdown",
   "metadata": {
    "application/vnd.databricks.v1+cell": {
     "cellMetadata": {},
     "inputWidgets": {},
     "nuid": "725c7ef6-f736-48d3-9c11-359924356905",
     "showTitle": false,
     "title": ""
    }
   },
   "source": [
    "## Magic Commands\n",
    "* Magic commands are specific to the Databricks notebooks\n",
    "* They are very similar to magic commands found in comparable notebook products\n",
    "* These are built-in commands that provide the same outcome regardless of the notebook's language\n",
    "* A single percent (%) symbol at the start of a cell identifies a magic command\n",
    "  * You can only have one magic command per cell\n",
    "  * A magic command must be the first thing in a cell"
   ]
  },
  {
   "cell_type": "markdown",
   "metadata": {
    "application/vnd.databricks.v1+cell": {
     "cellMetadata": {},
     "inputWidgets": {},
     "nuid": "205ad2ba-af18-4131-8843-c047adf9071f",
     "showTitle": false,
     "title": ""
    }
   },
   "source": [
    "### Language Magics\n",
    "Language magic commands allow for the execution of code in languages other than the notebook's default. In this course, we'll see the following language magics:\n",
    "* <strong><code>&#37;python</code></strong>\n",
    "* <strong><code>&#37;sql</code></strong>\n",
    "\n",
    "Adding the language magic for the currently set notebook type is not necessary.\n",
    "\n",
    "When we changed the notebook language from Python to SQL above, existing cells written in Python had the <strong><code>&#37;python</code></strong> command added.\n",
    "\n",
    "**NOTE**: Rather than changing the default language of a notebook constantly, you should stick with a primary language as the default and only use language magics as necessary to execute code in another language."
   ]
  },
  {
   "cell_type": "code",
   "execution_count": 0,
   "metadata": {
    "application/vnd.databricks.v1+cell": {
     "cellMetadata": {
      "byteLimit": 2048000,
      "rowLimit": 10000
     },
     "inputWidgets": {},
     "nuid": "46b78818-a753-4593-9e16-24ba2c0047ad",
     "showTitle": false,
     "title": ""
    }
   },
   "outputs": [],
   "source": [
    "print(\"Hello Python!\")"
   ]
  },
  {
   "cell_type": "code",
   "execution_count": 0,
   "metadata": {
    "application/vnd.databricks.v1+cell": {
     "cellMetadata": {
      "byteLimit": 2048000,
      "implicitDf": true,
      "rowLimit": 10000
     },
     "inputWidgets": {},
     "nuid": "2ab596cf-44f5-4fcd-8eb9-9714eece4180",
     "showTitle": false,
     "title": ""
    }
   },
   "outputs": [],
   "source": [
    "%sql\n",
    "select \"Hello SQL!\""
   ]
  },
  {
   "cell_type": "markdown",
   "metadata": {
    "application/vnd.databricks.v1+cell": {
     "cellMetadata": {},
     "inputWidgets": {},
     "nuid": "1ccc5b94-18c6-4719-85be-3256d55533f9",
     "showTitle": false,
     "title": ""
    }
   },
   "source": [
    "### Markdown\n",
    "\n",
    "The magic command **&percnt;md** allows us to render Markdown in a cell:\n",
    "* Double click this cell to begin editing it\n",
    "* Then hit **`Esc`** to stop editing\n",
    "\n",
    "# Title One\n",
    "## Title Two\n",
    "### Title Three\n",
    "\n",
    "This is a test of the emergency broadcast system. This is only a test.\n",
    "\n",
    "This is text with a **bold** word in it.\n",
    "\n",
    "This is text with an *italicized* word in it.\n",
    "\n",
    "This is an ordered list\n",
    "1. once\n",
    "1. two\n",
    "1. three\n",
    "\n",
    "This is an unordered list\n",
    "* apples\n",
    "* peaches\n",
    "* bananas\n",
    "\n",
    "Links/Embedded HTML: <a href=\"https://en.wikipedia.org/wiki/Markdown\" target=\"_blank\">Markdown - Wikipedia</a>\n",
    "\n",
    "Images:\n",
    "![Spark Engines](https://files.training.databricks.com/images/Apache-Spark-Logo_TM_200px.png)\n",
    "\n",
    "And of course, tables:\n",
    "\n",
    "| name   | value |\n",
    "|--------|-------|\n",
    "| Yi     | 1     |\n",
    "| Ali    | 2     |\n",
    "| Selina | 3     |"
   ]
  },
  {
   "cell_type": "markdown",
   "metadata": {
    "application/vnd.databricks.v1+cell": {
     "cellMetadata": {},
     "inputWidgets": {},
     "nuid": "e803b68b-4acf-4e28-8f3c-ab5ebbe6f136",
     "showTitle": false,
     "title": ""
    }
   },
   "source": [
    "### %run\n",
    "* You can run a notebook from another notebook by using the magic command **%run**\n",
    "* Notebooks to be run are specified with relative paths\n",
    "* The referenced notebook executes as if it were part of the current notebook, so temporary views and other local declarations will be available from the calling notebook"
   ]
  },
  {
   "cell_type": "markdown",
   "metadata": {
    "application/vnd.databricks.v1+cell": {
     "cellMetadata": {},
     "inputWidgets": {},
     "nuid": "3d05e4eb-6efe-47d8-bd33-82a9a551e045",
     "showTitle": false,
     "title": ""
    }
   },
   "source": [
    "Uncommenting and executing the following cell will generate the following error:<br/>\n",
    "**`Error in SQL statement: AnalysisException: Table or view not found: demo_tmp_vw`**"
   ]
  },
  {
   "cell_type": "code",
   "execution_count": 0,
   "metadata": {
    "application/vnd.databricks.v1+cell": {
     "cellMetadata": {
      "byteLimit": 2048000,
      "rowLimit": 10000
     },
     "inputWidgets": {},
     "nuid": "e3bb80dc-71f7-479a-913a-30355691cb04",
     "showTitle": false,
     "title": ""
    }
   },
   "outputs": [],
   "source": [
    "%sql\n",
    "-- SELECT * FROM demo_tmp_vw"
   ]
  },
  {
   "cell_type": "markdown",
   "metadata": {
    "application/vnd.databricks.v1+cell": {
     "cellMetadata": {},
     "inputWidgets": {},
     "nuid": "f9c048e2-7273-450f-92e2-fad255c1ae8f",
     "showTitle": false,
     "title": ""
    }
   },
   "source": [
    "But we can declare it and a handful of other variables and functions by running this cell:"
   ]
  },
  {
   "cell_type": "code",
   "execution_count": 0,
   "metadata": {
    "application/vnd.databricks.v1+cell": {
     "cellMetadata": {
      "byteLimit": 2048000,
      "rowLimit": 10000
     },
     "inputWidgets": {},
     "nuid": "58bbf09b-7bf2-4467-be54-a25c9aa8a9cb",
     "showTitle": false,
     "title": ""
    }
   },
   "outputs": [],
   "source": [
    "%run ../Includes/Classroom-Setup-01.2"
   ]
  },
  {
   "cell_type": "markdown",
   "metadata": {
    "application/vnd.databricks.v1+cell": {
     "cellMetadata": {},
     "inputWidgets": {},
     "nuid": "6ebacc10-9abd-4721-a4bb-8c78b9a5f3de",
     "showTitle": false,
     "title": ""
    }
   },
   "source": [
    "The **`../Includes/Classroom-Setup-01.2`** notebook we referenced includes logic to create and **`USE`** a schema, as well as creating the temp view **`demo_temp_vw`**.\n",
    "\n",
    "We can see this temp view is now available in our current notebook session with the following query."
   ]
  },
  {
   "cell_type": "code",
   "execution_count": 0,
   "metadata": {
    "application/vnd.databricks.v1+cell": {
     "cellMetadata": {
      "byteLimit": 2048000,
      "implicitDf": true,
      "rowLimit": 10000
     },
     "inputWidgets": {},
     "nuid": "5147cb2b-af7f-4ec1-9aba-273cae97f4de",
     "showTitle": false,
     "title": ""
    }
   },
   "outputs": [],
   "source": [
    "%sql \n",
    "SELECT * FROM demo_tmp_vw"
   ]
  },
  {
   "cell_type": "markdown",
   "metadata": {
    "application/vnd.databricks.v1+cell": {
     "cellMetadata": {},
     "inputWidgets": {},
     "nuid": "8fa9be6a-37d3-4f69-ab62-e27ad53743b4",
     "showTitle": false,
     "title": ""
    }
   },
   "source": [
    "We'll use this pattern of \"setup\" notebooks throughout the course to help configure the environment for lessons and labs.\n",
    "\n",
    "These \"provided\" variables, functions and other objects should be easily identifiable in that they are part of the **`DA`** object, which is an instance of **`DBAcademyHelper`**.\n",
    "\n",
    "With that in mind, most lessons will use variables derived from your username to organize files and schemas. \n",
    "\n",
    "This pattern allows us to avoid collision with other users in shared a workspace.\n",
    "\n",
    "The cell below uses Python to print some of those variables previously defined in this notebook's setup script:"
   ]
  },
  {
   "cell_type": "code",
   "execution_count": 0,
   "metadata": {
    "application/vnd.databricks.v1+cell": {
     "cellMetadata": {
      "byteLimit": 2048000,
      "rowLimit": 10000
     },
     "inputWidgets": {},
     "nuid": "1256c024-a90b-47f9-b586-66f5b59687e3",
     "showTitle": false,
     "title": ""
    }
   },
   "outputs": [],
   "source": [
    "print(f\"DA:                   {DA}\")\n",
    "print(f\"DA.username:          {DA.username}\")\n",
    "print(f\"DA.paths.working_dir: {DA.paths.working_dir}\")\n",
    "print(f\"DA.schema_name:       {DA.schema_name}\")"
   ]
  },
  {
   "cell_type": "markdown",
   "metadata": {
    "application/vnd.databricks.v1+cell": {
     "cellMetadata": {},
     "inputWidgets": {},
     "nuid": "b1105bf6-f01b-4397-b817-a46474199984",
     "showTitle": false,
     "title": ""
    }
   },
   "source": [
    "In addition to this, these same variables are \"injected\" into the SQL context so that we can use them in SQL statements.\n",
    "\n",
    "We will talk more about this later, but you can see a quick example in the following cell.\n",
    "\n",
    "<img src=\"https://files.training.databricks.com/images/icon_note_32.png\"> Note the subtle but important difference in the casing of the word **`da`** and **`DA`** in these two examples."
   ]
  },
  {
   "cell_type": "code",
   "execution_count": 0,
   "metadata": {
    "application/vnd.databricks.v1+cell": {
     "cellMetadata": {
      "byteLimit": 2048000,
      "implicitDf": true,
      "rowLimit": 10000
     },
     "inputWidgets": {},
     "nuid": "569f20a1-03bf-4562-9b17-ad312a4fc269",
     "showTitle": false,
     "title": ""
    }
   },
   "outputs": [],
   "source": [
    "%sql\n",
    "SELECT '${da.username}' AS current_username,\n",
    "       '${da.paths.working_dir}' AS working_directory,\n",
    "       '${da.schema_name}' as schema_name"
   ]
  },
  {
   "cell_type": "markdown",
   "metadata": {
    "application/vnd.databricks.v1+cell": {
     "cellMetadata": {},
     "inputWidgets": {},
     "nuid": "f12bf7d5-fe05-49eb-8594-1b1581a8fd87",
     "showTitle": false,
     "title": ""
    }
   },
   "source": [
    "## Databricks Utilities\n",
    "Databricks notebooks include a **`dbutils`** object that provides a number of utility commands for configuring and interacting with the environment: <a href=\"https://docs.databricks.com/user-guide/dev-tools/dbutils.html\" target=\"_blank\">dbutils docs</a>\n",
    "\n",
    "Throughout this course, we'll occasionally use **`dbutils.fs.ls()`** to list out directories of files from Python cells."
   ]
  },
  {
   "cell_type": "code",
   "execution_count": 0,
   "metadata": {
    "application/vnd.databricks.v1+cell": {
     "cellMetadata": {
      "byteLimit": 2048000,
      "rowLimit": 10000
     },
     "inputWidgets": {},
     "nuid": "959e6ddc-c87c-49f7-863e-b4004cab6dd8",
     "showTitle": false,
     "title": ""
    }
   },
   "outputs": [],
   "source": [
    "path = f\"{DA.paths.datasets}\"\n",
    "dbutils.fs.ls(path)"
   ]
  },
  {
   "cell_type": "markdown",
   "metadata": {
    "application/vnd.databricks.v1+cell": {
     "cellMetadata": {},
     "inputWidgets": {},
     "nuid": "22df623a-a2fc-4d59-9ee9-cdec899420be",
     "showTitle": false,
     "title": ""
    }
   },
   "source": [
    "## display()\n",
    "\n",
    "When running SQL queries from cells, results will always be displayed in a rendered tabular format.\n",
    "\n",
    "When we have tabular data returned by a Python cell, we can call **`display`** to get the same type of preview.\n",
    "\n",
    "Here, we'll wrap the previous list command on our file system with **`display`**."
   ]
  },
  {
   "cell_type": "code",
   "execution_count": 0,
   "metadata": {
    "application/vnd.databricks.v1+cell": {
     "cellMetadata": {
      "byteLimit": 2048000,
      "rowLimit": 10000
     },
     "inputWidgets": {},
     "nuid": "e8d4f856-9c09-4c45-9561-acf62d48ce5e",
     "showTitle": false,
     "title": ""
    }
   },
   "outputs": [],
   "source": [
    "path = f\"{DA.paths.datasets}\"\n",
    "files = dbutils.fs.ls(path)\n",
    "display(files)"
   ]
  },
  {
   "cell_type": "markdown",
   "metadata": {
    "application/vnd.databricks.v1+cell": {
     "cellMetadata": {},
     "inputWidgets": {},
     "nuid": "00e402bf-94e4-4f7e-bd4c-fcb4c390a8ab",
     "showTitle": false,
     "title": ""
    }
   },
   "source": [
    "The **`display()`** command has the following capabilities and limitations:\n",
    "* Preview of results limited to 1000 records\n",
    "* Provides button to download results data as CSV\n",
    "* Allows rendering plots"
   ]
  },
  {
   "cell_type": "markdown",
   "metadata": {
    "application/vnd.databricks.v1+cell": {
     "cellMetadata": {},
     "inputWidgets": {},
     "nuid": "4ee7c482-3599-4595-a810-b3107f452666",
     "showTitle": false,
     "title": ""
    }
   },
   "source": [
    "## Downloading Notebooks\n",
    "\n",
    "There are a number of options for downloading either individual notebooks or collections of notebooks.\n",
    "\n",
    "Here, you'll go through the process to download this notebook as well as a collection of all the notebooks in this course.\n",
    "\n",
    "### Download a Notebook\n",
    "\n",
    "Steps:\n",
    "* Click the **File** option to the right of the cluster selection at the top of the notebook\n",
    "* From the menu that appears, hover over **Export** and then select **Source File**\n",
    "\n",
    "The notebook will download to your personal laptop. It will be named with the current notebook name and have the file extension for the default language. You can open this notebook with any file editor and see the raw contents of Databricks notebooks.\n",
    "\n",
    "These source files can be uploaded into any Databricks workspace.\n",
    "\n",
    "### Download a Collection of Notebooks\n",
    "\n",
    "**NOTE**: The following instructions assume you have imported these materials using **Repos**.\n",
    "\n",
    "Steps:\n",
    "* Click the  ![](https://files.training.databricks.com/images/repos-icon.png) **Repos** on the left sidebar\n",
    "  * This should give you a preview of the parent directories for this notebook\n",
    "* On the left side of the directory preview around the middle of the screen, there should be a left arrow. Click this to move up in your file hierarchy.\n",
    "* You should see a directory called **Data Engineering with Databricks**. Click the the down arrow/chevron to bring up a menu\n",
    "* From the menu, hover over **Export** and select **DBC Archive**\n",
    "\n",
    "The DBC (Databricks Cloud) file that is downloaded contains a zipped collection of the directories and notebooks in this course. Users should not attempt to edit these DBC files locally, but they can be safely uploaded into any Databricks workspace to move or share notebook contents.\n",
    "\n",
    "**NOTE**: When downloading a collection of DBCs, result previews and plots will also be exported. When downloading source notebooks, only code will be saved."
   ]
  },
  {
   "cell_type": "markdown",
   "metadata": {
    "application/vnd.databricks.v1+cell": {
     "cellMetadata": {},
     "inputWidgets": {},
     "nuid": "5dfd8720-065c-42c7-9e2a-915b8f5190e6",
     "showTitle": false,
     "title": ""
    }
   },
   "source": [
    "## Learning More\n",
    "\n",
    "We like to encourage you to explore the documentation to learn more about the various features of the Databricks platform and notebooks.\n",
    "* <a href=\"https://docs.databricks.com/user-guide/index.html#user-guide\" target=\"_blank\">User Guide</a>\n",
    "* <a href=\"https://docs.databricks.com/user-guide/getting-started.html\" target=\"_blank\">Getting Started with Databricks</a>\n",
    "* <a href=\"https://docs.databricks.com/user-guide/notebooks/index.html\" target=\"_blank\">User Guide / Notebooks</a>\n",
    "* <a href=\"https://docs.databricks.com/notebooks/notebooks-manage.html#notebook-external-formats\" target=\"_blank\">Importing notebooks - Supported Formats</a>\n",
    "* <a href=\"https://docs.databricks.com/repos/index.html\" target=\"_blank\">Repos</a>\n",
    "* <a href=\"https://docs.databricks.com/administration-guide/index.html#administration-guide\" target=\"_blank\">Administration Guide</a>\n",
    "* <a href=\"https://docs.databricks.com/user-guide/clusters/index.html\" target=\"_blank\">Cluster Configuration</a>\n",
    "* <a href=\"https://docs.databricks.com/api/latest/index.html#rest-api-2-0\" target=\"_blank\">REST API</a>\n",
    "* <a href=\"https://docs.databricks.com/release-notes/index.html#release-notes\" target=\"_blank\">Release Notes</a>"
   ]
  },
  {
   "cell_type": "markdown",
   "metadata": {
    "application/vnd.databricks.v1+cell": {
     "cellMetadata": {},
     "inputWidgets": {},
     "nuid": "5d1be469-bb36-4c11-b9e6-047be1118dc3",
     "showTitle": false,
     "title": ""
    }
   },
   "source": [
    "## One more note! \n",
    "\n",
    "At the end of each lesson you will see the following command, **`DA.cleanup()`**.\n",
    "\n",
    "This method drops lesson-specific schemas and working directories in an attempt to keep your workspace clean and maintain the immutability of each lesson.\n",
    "\n",
    "Run the following cell to delete the tables and files associated with this lesson."
   ]
  },
  {
   "cell_type": "code",
   "execution_count": 0,
   "metadata": {
    "application/vnd.databricks.v1+cell": {
     "cellMetadata": {
      "byteLimit": 2048000,
      "rowLimit": 10000
     },
     "inputWidgets": {},
     "nuid": "8d61d5e3-c42f-41da-abf0-baf22cf68d53",
     "showTitle": false,
     "title": ""
    }
   },
   "outputs": [],
   "source": [
    "DA.cleanup()"
   ]
  },
  {
   "cell_type": "markdown",
   "metadata": {
    "application/vnd.databricks.v1+cell": {
     "cellMetadata": {},
     "inputWidgets": {},
     "nuid": "57b16c18-839e-4695-983d-477b3a9cbde5",
     "showTitle": false,
     "title": ""
    }
   },
   "source": [
    "-sandbox\n",
    "&copy; 2022 Databricks, Inc. All rights reserved.<br/>\n",
    "Apache, Apache Spark, Spark and the Spark logo are trademarks of the <a href=\"https://www.apache.org/\">Apache Software Foundation</a>.<br/>\n",
    "<br/>\n",
    "<a href=\"https://databricks.com/privacy-policy\">Privacy Policy</a> | <a href=\"https://databricks.com/terms-of-use\">Terms of Use</a> | <a href=\"https://help.databricks.com/\">Support</a>"
   ]
  }
 ],
 "metadata": {
  "application/vnd.databricks.v1+notebook": {
   "dashboards": [],
   "language": "python",
   "notebookMetadata": {
    "mostRecentlyExecutedCommandWithImplicitDF": {
     "commandId": 4481407714171665,
     "dataframes": [
      "_sqldf"
     ]
    },
    "pythonIndentUnit": 2
   },
   "notebookName": "DE 1.2 - Notebook Basics",
   "widgets": {}
  }
 },
 "nbformat": 4,
 "nbformat_minor": 0
}
